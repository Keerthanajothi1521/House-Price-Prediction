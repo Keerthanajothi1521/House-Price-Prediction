data = pd.read_csv('house_data.csv')
data.dropna(inplace=True)
X = data.drop('Price', axis=1)
y = data['Price']
scaler = StandardScaler()
X_scaled = scaler.fit_transform(X)
X_train, X_test, y_train, y_test = train_test_split(X_scaled, y, test_size=0.2, random_state=42)
