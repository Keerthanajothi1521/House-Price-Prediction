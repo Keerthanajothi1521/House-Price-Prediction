model = LinearRegression()
model.fit(X_train, y_train)
coefficients = pd.DataFrame({
    'Feature': data.drop('Price', axis=1).columns,
    'Coefficient': model.coef_
})

#Evaluation
y_pred = model.predict(X_test)
# Metrics
r2 = r2_score(y_test, y_pred)
mse = mean_squared_error(y_test, y_pred)
print(f"R-squared: {r2:.4f}")
print(f"MSE: {mse:.4f}")
print("\nFeature Coefficients:")
print(coefficients)
